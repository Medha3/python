{
  "nbformat": 4,
  "nbformat_minor": 0,
  "metadata": {
    "colab": {
      "name": "Copy of day 11",
      "version": "0.3.2",
      "provenance": [],
      "collapsed_sections": []
    },
    "kernelspec": {
      "name": "python3",
      "display_name": "Python 3"
    }
  },
  "cells": [
    {
      "cell_type": "markdown",
      "metadata": {
        "id": "imFOiHwibk_a",
        "colab_type": "text"
      },
      "source": [
        "##Introduction to oop in python\n",
        "\n",
        ". . .\n",
        "One of the popular approach to solve a programming problem by creating an object.This is known as object oriented programming.\n",
        "\n",
        "An object has two characteristics:\n",
        "   1.Attributes(Name  , Age , Color)\n",
        "   2.Behaviour(Learn , study , singing , dancing)\n",
        "   \n",
        "  In python, the concept of oop follows these things :\n",
        "  \n",
        "  \n",
        "  \n",
        "  \n",
        "  \n",
        "  \n",
        "  \n",
        "  \n",
        "  \n",
        "  class :\n",
        "  \n",
        "  A class is blueprint for object or logical entity\n",
        "  \n",
        "  Object :\n",
        "  \n",
        "  Blueprint of class or insurance of the class or physical entity.\n",
        "  \n",
        "  #class className:\n",
        "  \n",
        "    #same functions are variables.\n",
        "    \n",
        "    #function -- used to perform specific activity.\n",
        "    \n",
        "    #variables -- data(memory)."
      ]
    },
    {
      "cell_type": "code",
      "metadata": {
        "id": "GQx1Teoyotsa",
        "colab_type": "code",
        "colab": {}
      },
      "source": [
        ""
      ],
      "execution_count": 0,
      "outputs": []
    },
    {
      "cell_type": "code",
      "metadata": {
        "id": "gHilUOsjerRt",
        "colab_type": "code",
        "colab": {}
      },
      "source": [
        "def test():\n",
        "    return\n",
        "test()"
      ],
      "execution_count": 0,
      "outputs": []
    },
    {
      "cell_type": "code",
      "metadata": {
        "id": "nQ216r_3e29E",
        "colab_type": "code",
        "outputId": "ed812c02-2e0b-48af-fd20-3462c241302d",
        "colab": {
          "base_uri": "https://localhost:8080/",
          "height": 34
        }
      },
      "source": [
        "class Demo:\n",
        "    def test(self):\n",
        "        print(\"test() for the class and method\")\n",
        "        return\n",
        "      \n",
        "obj=Demo()\n",
        "obj.test()"
      ],
      "execution_count": 0,
      "outputs": [
        {
          "output_type": "stream",
          "text": [
            "test() for the class and method\n"
          ],
          "name": "stdout"
        }
      ]
    },
    {
      "cell_type": "code",
      "metadata": {
        "id": "PnBJkuDEf1ia",
        "colab_type": "code",
        "outputId": "0b1765fc-d57b-4269-b85a-bbd68b779986",
        "colab": {
          "base_uri": "https://localhost:8080/",
          "height": 34
        }
      },
      "source": [
        "class Demo1:\n",
        "    def fact(self,n):\n",
        "      #return the factorial\n",
        "      fact=1\n",
        "      while(n!=0):\n",
        "        fact=fact*n\n",
        "        n=n-1\n",
        "      return fact\n",
        "  \n",
        "p1=Demo1()\n",
        "p1.fact(5)#120"
      ],
      "execution_count": 0,
      "outputs": [
        {
          "output_type": "execute_result",
          "data": {
            "text/plain": [
              "120"
            ]
          },
          "metadata": {
            "tags": []
          },
          "execution_count": 10
        }
      ]
    },
    {
      "cell_type": "code",
      "metadata": {
        "id": "HitaUgP1icTl",
        "colab_type": "code",
        "outputId": "2abdd56c-f8f8-4740-c5b5-7f10615c709e",
        "colab": {
          "base_uri": "https://localhost:8080/",
          "height": 51
        }
      },
      "source": [
        "class Demo2:\n",
        "    \n",
        "    def accept(self,p1,p2):\n",
        "        self.p1=p1\n",
        "        self.p2=p2\n",
        "        return\n",
        "    def display(self):\n",
        "        print(\"p1=\",self.p1)\n",
        "        print(\"p2=\",self.p2)\n",
        "        \n",
        "c1=Demo2()\n",
        "c1.accept(10,20)\n",
        "c1.display()"
      ],
      "execution_count": 0,
      "outputs": [
        {
          "output_type": "stream",
          "text": [
            "p1= 10\n",
            "p2= 20\n"
          ],
          "name": "stdout"
        }
      ]
    },
    {
      "cell_type": "code",
      "metadata": {
        "id": "Bg9WzlIKknlK",
        "colab_type": "code",
        "outputId": "a2ea3d4d-8bfa-473b-f618-c066990eaaf4",
        "colab": {
          "base_uri": "https://localhost:8080/",
          "height": 34
        }
      },
      "source": [
        "class Demo2:\n",
        "    def __init__(self,p1,p2):\n",
        "        self.p1=p1\n",
        "        self.p2=p2\n",
        "        \n",
        "    def add(self,p1,p2):\n",
        "        return p1+p2\n",
        "      \n",
        "c1=Demo2(10,20)\n",
        "print(c1.add(100,200))"
      ],
      "execution_count": 0,
      "outputs": [
        {
          "output_type": "stream",
          "text": [
            "300\n"
          ],
          "name": "stdout"
        }
      ]
    },
    {
      "cell_type": "code",
      "metadata": {
        "id": "-tgjVtihqLaA",
        "colab_type": "code",
        "outputId": "51897946-0840-44dd-a0e9-1b5d345af997",
        "colab": {
          "base_uri": "https://localhost:8080/",
          "height": 34
        }
      },
      "source": [
        "import re\n",
        "sum=0\n",
        "\n",
        "pattern='back'\n",
        "if re.match(pattern,'backup.txt'):\n",
        "    sum+=1\n",
        "if re.match(pattern,'text.back'):\n",
        "    sum+=2\n",
        "if re.search(pattern,'backup.txt'):\n",
        "    sum+=4\n",
        "if re.search(pattern,'text.back'):\n",
        "    sum+=8\n",
        "    \n",
        "print(sum)"
      ],
      "execution_count": 0,
      "outputs": [
        {
          "output_type": "stream",
          "text": [
            "13\n"
          ],
          "name": "stdout"
        }
      ]
    },
    {
      "cell_type": "code",
      "metadata": {
        "id": "bamEmGKOqhY2",
        "colab_type": "code",
        "colab": {}
      },
      "source": [
        "\n",
        "# Same inheritance\n",
        "# Parent class\n",
        "class Person(object):\n",
        "    #Constructor\n",
        "    def __init__(self,name):\n",
        "      self.name=name\n",
        "    def getName(self):\n",
        "        return self.name\n",
        "    def isEmployer(self):\n",
        "        return False\n",
        "   "
      ],
      "execution_count": 0,
      "outputs": []
    },
    {
      "cell_type": "markdown",
      "metadata": {
        "id": "C0pMgotkDu5s",
        "colab_type": "text"
      },
      "source": [
        "## Python Numpy\n",
        "\n",
        "Numpy arrays is a bit lke python list\n",
        "\n",
        "Numpy array is a central data structure of the numpy lib\n",
        "\n",
        "This lib is actually short form of \"Numeric Python\" "
      ]
    },
    {
      "cell_type": "code",
      "metadata": {
        "id": "_2kf7UgFEIjR",
        "colab_type": "code",
        "outputId": "9114ad4d-a34b-439d-c783-f23d1aafc33a",
        "colab": {
          "base_uri": "https://localhost:8080/",
          "height": 34
        }
      },
      "source": [
        "lst=[1,2,3,4]\n",
        "print(lst)"
      ],
      "execution_count": 0,
      "outputs": [
        {
          "output_type": "stream",
          "text": [
            "[1, 2, 3, 4]\n"
          ],
          "name": "stdout"
        }
      ]
    },
    {
      "cell_type": "code",
      "metadata": {
        "id": "JSxzm85TEhD-",
        "colab_type": "code",
        "outputId": "c7d44743-c4b9-4e4c-eab1-1c1f0b3b71ad",
        "colab": {
          "base_uri": "https://localhost:8080/",
          "height": 34
        }
      },
      "source": [
        "import numpy as np\n",
        "lst=[1,2,3,4]\n",
        "array=np.array(lst)\n",
        "print(array)"
      ],
      "execution_count": 0,
      "outputs": [
        {
          "output_type": "stream",
          "text": [
            "[1 2 3 4]\n"
          ],
          "name": "stdout"
        }
      ]
    },
    {
      "cell_type": "code",
      "metadata": {
        "id": "Jl2hcZbVE__G",
        "colab_type": "code",
        "outputId": "898c4315-8d75-4a78-c552-e8cc4194e8d1",
        "colab": {
          "base_uri": "https://localhost:8080/",
          "height": 51
        }
      },
      "source": [
        "lst=[1,2,3,4]\n",
        "array=np.array(lst)\n",
        "print(array.shape)\n",
        "print(array.dtype)"
      ],
      "execution_count": 0,
      "outputs": [
        {
          "output_type": "stream",
          "text": [
            "(4,)\n",
            "int64\n"
          ],
          "name": "stdout"
        }
      ]
    },
    {
      "cell_type": "code",
      "metadata": {
        "id": "cflKOIPFFVMx",
        "colab_type": "code",
        "outputId": "833db1da-7cad-45a0-f0b3-65d4a204c42c",
        "colab": {
          "base_uri": "https://localhost:8080/",
          "height": 51
        }
      },
      "source": [
        "lst=[1,0,2,5,3,6,9,5]\n",
        "array=np.array(lst)\n",
        "print(array.shape)\n",
        "print(array.dtype)"
      ],
      "execution_count": 0,
      "outputs": [
        {
          "output_type": "stream",
          "text": [
            "(8,)\n",
            "int64\n"
          ],
          "name": "stdout"
        }
      ]
    },
    {
      "cell_type": "code",
      "metadata": {
        "id": "5pDAjH28Fpgg",
        "colab_type": "code",
        "outputId": "b0fa8934-cc76-401d-c814-0cf53f87c3e3",
        "colab": {
          "base_uri": "https://localhost:8080/",
          "height": 51
        }
      },
      "source": [
        "a1=np.array([(1,2,3),(4,5,6)])\n",
        "print(a1.shape)\n",
        "a2=np.array([(1,2),(3,4),(5,6)])\n",
        "print(a2.shape)"
      ],
      "execution_count": 0,
      "outputs": [
        {
          "output_type": "stream",
          "text": [
            "(2, 3)\n",
            "(3, 2)\n"
          ],
          "name": "stdout"
        }
      ]
    },
    {
      "cell_type": "code",
      "metadata": {
        "id": "K5KIBzcKGG-t",
        "colab_type": "code",
        "outputId": "8582ddda-de69-43c9-9b54-227f068ff650",
        "colab": {
          "base_uri": "https://localhost:8080/",
          "height": 102
        }
      },
      "source": [
        "# RE-Shape the given array\n",
        "# numpy.reshape(arrayName,reshape,order='C')\n",
        "a1=np.array([(1,2,3),(4,5,6)])\n",
        "print(a1)\n",
        "a1.reshape(3,2)"
      ],
      "execution_count": 0,
      "outputs": [
        {
          "output_type": "stream",
          "text": [
            "[[1 2 3]\n",
            " [4 5 6]]\n"
          ],
          "name": "stdout"
        },
        {
          "output_type": "execute_result",
          "data": {
            "text/plain": [
              "array([[1, 2],\n",
              "       [3, 4],\n",
              "       [5, 6]])"
            ]
          },
          "metadata": {
            "tags": []
          },
          "execution_count": 26
        }
      ]
    },
    {
      "cell_type": "code",
      "metadata": {
        "id": "kKtUwYI4HgXR",
        "colab_type": "code",
        "outputId": "adb9379f-6f99-4154-81a9-2ff15921d77a",
        "colab": {
          "base_uri": "https://localhost:8080/",
          "height": 34
        }
      },
      "source": [
        "#Append some Data --Horizontally\n",
        "#Append some Data --Vertically\n",
        "\n",
        "a1=np.array([1,2,3])\n",
        "a2=np.array([4,5,6])\n",
        "print(np.hstack((a1,a2)))"
      ],
      "execution_count": 0,
      "outputs": [
        {
          "output_type": "stream",
          "text": [
            "[1 2 3 4 5 6]\n"
          ],
          "name": "stdout"
        }
      ]
    },
    {
      "cell_type": "code",
      "metadata": {
        "id": "Fsmv22dPIzvv",
        "colab_type": "code",
        "outputId": "71acbaad-ad3d-467c-e079-39bc9b15b2e4",
        "colab": {
          "base_uri": "https://localhost:8080/",
          "height": 51
        }
      },
      "source": [
        "#Append some Data --Vertically\n",
        "# vstack(array1,array2) -- will be automatically arranged\n",
        "a1=np.array([1,2,3])\n",
        "a2=np.array([4,5,6])\n",
        "print(np.vstack((a1,a2)))"
      ],
      "execution_count": 0,
      "outputs": [
        {
          "output_type": "stream",
          "text": [
            "[[1 2 3]\n",
            " [4 5 6]]\n"
          ],
          "name": "stdout"
        }
      ]
    },
    {
      "cell_type": "code",
      "metadata": {
        "id": "5L2rvVbcJYKV",
        "colab_type": "code",
        "outputId": "76a8f43b-b906-46cd-d2d8-2e4ce751369f",
        "colab": {
          "base_uri": "https://localhost:8080/",
          "height": 34
        }
      },
      "source": [
        "# Generate random number from NP\n",
        "a1=np.random.normal(5,0,10)\n",
        "print(a1)"
      ],
      "execution_count": 0,
      "outputs": [
        {
          "output_type": "stream",
          "text": [
            "[5. 5. 5. 5. 5. 5. 5. 5. 5. 5.]\n"
          ],
          "name": "stdout"
        }
      ]
    },
    {
      "cell_type": "code",
      "metadata": {
        "id": "_-6JlpkbKw_e",
        "colab_type": "code",
        "outputId": "23baf434-a4eb-4070-db69-7756ebb8f680",
        "colab": {
          "base_uri": "https://localhost:8080/",
          "height": 51
        }
      },
      "source": [
        "np.zeros((2,2))"
      ],
      "execution_count": 0,
      "outputs": [
        {
          "output_type": "execute_result",
          "data": {
            "text/plain": [
              "array([[0., 0.],\n",
              "       [0., 0.]])"
            ]
          },
          "metadata": {
            "tags": []
          },
          "execution_count": 32
        }
      ]
    },
    {
      "cell_type": "code",
      "metadata": {
        "id": "lGfJg9ZRK_qM",
        "colab_type": "code",
        "outputId": "5669807c-8e5a-462c-8a9f-9ef98b8593ca",
        "colab": {
          "base_uri": "https://localhost:8080/",
          "height": 51
        }
      },
      "source": [
        "np.zeros((2,2),dtype=np.int64)"
      ],
      "execution_count": 0,
      "outputs": [
        {
          "output_type": "execute_result",
          "data": {
            "text/plain": [
              "array([[0, 0],\n",
              "       [0, 0]])"
            ]
          },
          "metadata": {
            "tags": []
          },
          "execution_count": 35
        }
      ]
    },
    {
      "cell_type": "code",
      "metadata": {
        "id": "rR6rIrWjMTfh",
        "colab_type": "code",
        "outputId": "0c1a4bd8-ee8b-45c8-cd4d-6af04b85422c",
        "colab": {
          "base_uri": "https://localhost:8080/",
          "height": 85
        }
      },
      "source": [
        "A=np.matrix(np.ones((4,4),dtype=np.int64))\n",
        "np.asarray(A)[2]=5\n",
        "print(A)"
      ],
      "execution_count": 0,
      "outputs": [
        {
          "output_type": "stream",
          "text": [
            "[[1 1 1 1]\n",
            " [1 1 1 1]\n",
            " [5 5 5 5]\n",
            " [1 1 1 1]]\n"
          ],
          "name": "stdout"
        }
      ]
    },
    {
      "cell_type": "code",
      "metadata": {
        "id": "aNanvRE0Mt9y",
        "colab_type": "code",
        "outputId": "4899d87f-449f-4bbd-ef10-36f434c61cfe",
        "colab": {
          "base_uri": "https://localhost:8080/",
          "height": 85
        }
      },
      "source": [
        "A=np.matrix(np.ones((4,4),dtype=np.int64))\n",
        "np.asarray(A)[1][3]=14\n",
        "np.asarray(A)[3][3]=16\n",
        "print(A)"
      ],
      "execution_count": 0,
      "outputs": [
        {
          "output_type": "stream",
          "text": [
            "[[ 1  1  1  1]\n",
            " [ 1  1  1 14]\n",
            " [ 1  1  1  1]\n",
            " [ 1  1  1 16]]\n"
          ],
          "name": "stdout"
        }
      ]
    },
    {
      "cell_type": "code",
      "metadata": {
        "id": "RNGgE5AmNY6J",
        "colab_type": "code",
        "outputId": "da66c1f5-ca18-4d59-e4d0-5ce852fe47c8",
        "colab": {
          "base_uri": "https://localhost:8080/",
          "height": 34
        }
      },
      "source": [
        "# arange() --Particular\n",
        "# numpy.arrange(start,end,step)\n",
        "# start -- value\n",
        "# End -- value\n",
        "# step --  Gap between one value to another value\n",
        "\n",
        "import numpy as np\n",
        "np.arange(1,10)"
      ],
      "execution_count": 0,
      "outputs": [
        {
          "output_type": "execute_result",
          "data": {
            "text/plain": [
              "array([1, 2, 3, 4, 5, 6, 7, 8, 9])"
            ]
          },
          "metadata": {
            "tags": []
          },
          "execution_count": 40
        }
      ]
    },
    {
      "cell_type": "code",
      "metadata": {
        "id": "XeFEHWuBgBI6",
        "colab_type": "code",
        "outputId": "d44ca4c6-3617-42ca-8c28-e5b93f94df9e",
        "colab": {
          "base_uri": "https://localhost:8080/",
          "height": 34
        }
      },
      "source": [
        "np.arange(1,100,9)"
      ],
      "execution_count": 0,
      "outputs": [
        {
          "output_type": "execute_result",
          "data": {
            "text/plain": [
              "array([ 1, 10, 19, 28, 37, 46, 55, 64, 73, 82, 91])"
            ]
          },
          "metadata": {
            "tags": []
          },
          "execution_count": 41
        }
      ]
    },
    {
      "cell_type": "code",
      "metadata": {
        "id": "6Vk7kFiSggVb",
        "colab_type": "code",
        "outputId": "04958e86-d930-452a-f2a4-e2174b8423f0",
        "colab": {
          "base_uri": "https://localhost:8080/",
          "height": 34
        }
      },
      "source": [
        "np.arange(2,20,2)\n",
        "np.arange(1,25,2)"
      ],
      "execution_count": 0,
      "outputs": [
        {
          "output_type": "execute_result",
          "data": {
            "text/plain": [
              "array([ 1,  3,  5,  7,  9, 11, 13, 15, 17, 19, 21, 23])"
            ]
          },
          "metadata": {
            "tags": []
          },
          "execution_count": 42
        }
      ]
    },
    {
      "cell_type": "code",
      "metadata": {
        "id": "VRFpjtx7hST4",
        "colab_type": "code",
        "outputId": "c137ba70-556b-4951-e966-edc9b84e9c89",
        "colab": {
          "base_uri": "https://localhost:8080/",
          "height": 51
        }
      },
      "source": [
        "#Index and slicing of numpy\n",
        "a1=np.array([(1,2,3),(4,5,6)])\n",
        "print(a1)"
      ],
      "execution_count": 0,
      "outputs": [
        {
          "output_type": "stream",
          "text": [
            "[[1 2 3]\n",
            " [4 5 6]]\n"
          ],
          "name": "stdout"
        }
      ]
    },
    {
      "cell_type": "code",
      "metadata": {
        "id": "3ydQNjuHhl-I",
        "colab_type": "code",
        "outputId": "957370e3-e5a4-4c73-d069-27e5f5019f12",
        "colab": {
          "base_uri": "https://localhost:8080/",
          "height": 34
        }
      },
      "source": [
        "a1=np.array([(1,2,3),(4,5,6)])\n",
        "print(\"First row:\",a1[0])\n"
      ],
      "execution_count": 0,
      "outputs": [
        {
          "output_type": "stream",
          "text": [
            "First row: [1 2 3]\n"
          ],
          "name": "stdout"
        }
      ]
    },
    {
      "cell_type": "code",
      "metadata": {
        "id": "GOjx3GTqiMl9",
        "colab_type": "code",
        "outputId": "49dd189a-39d4-40b3-e5db-5ee9a52161c5",
        "colab": {
          "base_uri": "https://localhost:8080/",
          "height": 34
        }
      },
      "source": [
        "a1=np.array([(1,2,3),(4,5,6)])\n",
        "print(\"Second row:\",a1[1])"
      ],
      "execution_count": 0,
      "outputs": [
        {
          "output_type": "stream",
          "text": [
            "Second row: [4 5 6]\n"
          ],
          "name": "stdout"
        }
      ]
    },
    {
      "cell_type": "code",
      "metadata": {
        "id": "0wkC6qRUguqE",
        "colab_type": "code",
        "outputId": "9f214fbc-56a3-45cd-8492-e739d827ad28",
        "colab": {
          "base_uri": "https://localhost:8080/",
          "height": 34
        }
      },
      "source": [
        "a1=np.array([(1,2,3),(4,5,6)])\n",
        "print(\"slicing column\",a1[:,1])"
      ],
      "execution_count": 0,
      "outputs": [
        {
          "output_type": "stream",
          "text": [
            "slicing column [2 5]\n"
          ],
          "name": "stdout"
        }
      ]
    },
    {
      "cell_type": "code",
      "metadata": {
        "id": "lNJetd2zhFEM",
        "colab_type": "code",
        "outputId": "5dbbf97f-e5fe-429f-bcd4-6b690dcae936",
        "colab": {
          "base_uri": "https://localhost:8080/",
          "height": 34
        }
      },
      "source": [
        "a1=np.array([(1,2,3),(4,5,6)])\n",
        "print(\"slicing last column\",a1[:,2])"
      ],
      "execution_count": 0,
      "outputs": [
        {
          "output_type": "stream",
          "text": [
            "slicing last column [3 6]\n"
          ],
          "name": "stdout"
        }
      ]
    },
    {
      "cell_type": "code",
      "metadata": {
        "id": "3ffOzEFBjE6Y",
        "colab_type": "code",
        "outputId": "595bd6dc-42a2-4b2a-a76d-94a75566b7b8",
        "colab": {
          "base_uri": "https://localhost:8080/",
          "height": 51
        }
      },
      "source": [
        "a1=np.random.normal(5,1,10)\n",
        "print(a1)"
      ],
      "execution_count": 0,
      "outputs": [
        {
          "output_type": "stream",
          "text": [
            "[3.10459568 4.37305784 2.77957459 3.50752331 4.13775043 5.94848445\n",
            " 4.21926111 5.40844596 3.94201548 4.81041759]\n"
          ],
          "name": "stdout"
        }
      ]
    },
    {
      "cell_type": "code",
      "metadata": {
        "id": "PCENN0z6jNbh",
        "colab_type": "code",
        "outputId": "84e6d2c4-ee95-489e-95de-e81382660b95",
        "colab": {
          "base_uri": "https://localhost:8080/",
          "height": 119
        }
      },
      "source": [
        "# Some match operations on given random numbers\n",
        "# Min -- returns the least number\n",
        "# Max -- returns the large number\n",
        "# Mean -- Mean\n",
        "# Median -- Median\n",
        "a1=np.random.normal(5,1,10)\n",
        "print(a1)\n",
        "print(\"Min value=\",np.min(a1))\n",
        "print(\"Max value=\",np.max(a1))\n",
        "print(\"Mean value=\",np.mean(a1))\n",
        "print(\"Median value=\",np.median(a1))"
      ],
      "execution_count": 0,
      "outputs": [
        {
          "output_type": "stream",
          "text": [
            "[4.00318133 5.80837888 6.36541716 5.19033177 4.04674662 4.85149301\n",
            " 4.63080982 4.33584042 4.97724413 4.30480703]\n",
            "Min value= 4.003181334667059\n",
            "Max value= 6.365417155725703\n",
            "Mean value= 4.851425016919677\n",
            "Median value= 4.741151417028517\n"
          ],
          "name": "stdout"
        }
      ]
    },
    {
      "cell_type": "code",
      "metadata": {
        "id": "4B_bPGPrkrmm",
        "colab_type": "code",
        "outputId": "a736da97-2ff3-4dc0-f05d-357933318df3",
        "colab": {
          "base_uri": "https://localhost:8080/",
          "height": 34
        }
      },
      "source": [
        "# Multiply of Id arrays\n",
        "# numpy.dot(x,y) --\n",
        "\n",
        "c1=np.array([1,2])\n",
        "c2=np.array([4,5])\n",
        "np.dot(c1,c2)"
      ],
      "execution_count": 0,
      "outputs": [
        {
          "output_type": "execute_result",
          "data": {
            "text/plain": [
              "14"
            ]
          },
          "metadata": {
            "tags": []
          },
          "execution_count": 52
        }
      ]
    },
    {
      "cell_type": "code",
      "metadata": {
        "id": "6Q8GhTA8mYbC",
        "colab_type": "code",
        "outputId": "a9e720db-4377-44ab-ae98-692cb66361fa",
        "colab": {
          "base_uri": "https://localhost:8080/",
          "height": 51
        }
      },
      "source": [
        "c1=np.array([(1,2),(3,4)])\n",
        "c2=np.array([(4,5),(6,7)])\n",
        "np.dot(c1,c2)"
      ],
      "execution_count": 0,
      "outputs": [
        {
          "output_type": "execute_result",
          "data": {
            "text/plain": [
              "array([[16, 19],\n",
              "       [36, 43]])"
            ]
          },
          "metadata": {
            "tags": []
          },
          "execution_count": 53
        }
      ]
    },
    {
      "cell_type": "code",
      "metadata": {
        "id": "-DTO6QR5m5tK",
        "colab_type": "code",
        "colab": {}
      },
      "source": [
        "b1=np.array([(1,5),(6,9)])\n",
        "b2=np.array([()])"
      ],
      "execution_count": 0,
      "outputs": []
    },
    {
      "cell_type": "code",
      "metadata": {
        "id": "IVHAaWDQr819",
        "colab_type": "code",
        "outputId": "253b8f0f-074e-4059-c946-c1fc37324d4b",
        "colab": {
          "base_uri": "https://localhost:8080/",
          "height": 214
        }
      },
      "source": [
        "class test:\n",
        "    def __init__(self,a):\n",
        "        self.a=a\n",
        "        \n",
        "    def display(self):\n",
        "        print(self.a)\n",
        "obj=test()\n",
        "obj.display()"
      ],
      "execution_count": 0,
      "outputs": [
        {
          "output_type": "error",
          "ename": "TypeError",
          "evalue": "ignored",
          "traceback": [
            "\u001b[0;31m---------------------------------------------------------------------------\u001b[0m",
            "\u001b[0;31mTypeError\u001b[0m                                 Traceback (most recent call last)",
            "\u001b[0;32m<ipython-input-55-35a4f3e5de39>\u001b[0m in \u001b[0;36m<module>\u001b[0;34m()\u001b[0m\n\u001b[1;32m      5\u001b[0m     \u001b[0;32mdef\u001b[0m \u001b[0mdisplay\u001b[0m\u001b[0;34m(\u001b[0m\u001b[0mself\u001b[0m\u001b[0;34m)\u001b[0m\u001b[0;34m:\u001b[0m\u001b[0;34m\u001b[0m\u001b[0;34m\u001b[0m\u001b[0m\n\u001b[1;32m      6\u001b[0m         \u001b[0mprint\u001b[0m\u001b[0;34m(\u001b[0m\u001b[0mself\u001b[0m\u001b[0;34m.\u001b[0m\u001b[0ma\u001b[0m\u001b[0;34m)\u001b[0m\u001b[0;34m\u001b[0m\u001b[0;34m\u001b[0m\u001b[0m\n\u001b[0;32m----> 7\u001b[0;31m \u001b[0mobj\u001b[0m\u001b[0;34m=\u001b[0m\u001b[0mtest\u001b[0m\u001b[0;34m(\u001b[0m\u001b[0;34m)\u001b[0m\u001b[0;34m\u001b[0m\u001b[0;34m\u001b[0m\u001b[0m\n\u001b[0m\u001b[1;32m      8\u001b[0m \u001b[0mobj\u001b[0m\u001b[0;34m.\u001b[0m\u001b[0mdisplay\u001b[0m\u001b[0;34m(\u001b[0m\u001b[0;34m)\u001b[0m\u001b[0;34m\u001b[0m\u001b[0;34m\u001b[0m\u001b[0m\n",
            "\u001b[0;31mTypeError\u001b[0m: __init__() missing 1 required positional argument: 'a'"
          ]
        }
      ]
    },
    {
      "cell_type": "code",
      "metadata": {
        "id": "C_yHgsjmsRK_",
        "colab_type": "code",
        "colab": {}
      },
      "source": [
        ""
      ],
      "execution_count": 0,
      "outputs": []
    }
  ]
}