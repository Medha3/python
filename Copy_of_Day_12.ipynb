{
  "nbformat": 4,
  "nbformat_minor": 0,
  "metadata": {
    "colab": {
      "name": "Copy of Day 12",
      "version": "0.3.2",
      "provenance": []
    },
    "kernelspec": {
      "name": "python3",
      "display_name": "Python 3"
    }
  },
  "cells": [
    {
      "cell_type": "code",
      "metadata": {
        "id": "I8BbEWZ6ljbz",
        "colab_type": "code",
        "outputId": "f0a12857-9142-4e6b-dc3a-f7c7f1ccab80",
        "colab": {
          "base_uri": "https://localhost:8080/",
          "height": 153
        }
      },
      "source": [
        "# Cr4eate a series by passing a list of values\n",
        "\n",
        "import pandas as pd\n",
        "a=pd.Series([1,2,3,4,5,6,7])\n",
        "print(a)"
      ],
      "execution_count": 0,
      "outputs": [
        {
          "output_type": "stream",
          "text": [
            "0    1\n",
            "1    2\n",
            "2    3\n",
            "3    4\n",
            "4    5\n",
            "5    6\n",
            "6    7\n",
            "dtype: int64\n"
          ],
          "name": "stdout"
        }
      ]
    },
    {
      "cell_type": "code",
      "metadata": {
        "id": "VTt_PkZfl6AB",
        "colab_type": "code",
        "outputId": "16fc635e-0df8-4205-f5e8-0a4c3f85d881",
        "colab": {
          "base_uri": "https://localhost:8080/",
          "height": 136
        }
      },
      "source": [
        "# Missing values then it can be nan of numpy\n",
        "\n",
        "import numpy as np\n",
        "a1=pd.Series([1,2,3,4,np.nan,6])\n",
        "print(a1)"
      ],
      "execution_count": 0,
      "outputs": [
        {
          "output_type": "stream",
          "text": [
            "0    1.0\n",
            "1    2.0\n",
            "2    3.0\n",
            "3    4.0\n",
            "4    NaN\n",
            "5    6.0\n",
            "dtype: float64\n"
          ],
          "name": "stdout"
        }
      ]
    },
    {
      "cell_type": "code",
      "metadata": {
        "id": "klJ8iclPnJtA",
        "colab_type": "code",
        "outputId": "011e12ba-c4e1-43a5-83b4-15d14eba3f76",
        "colab": {
          "base_uri": "https://localhost:8080/",
          "height": 85
        }
      },
      "source": [
        "# Create a list of dates within particular range\n",
        "\n",
        "dates=pd.date_range('20190601',periods=10)\n",
        "print(dates)"
      ],
      "execution_count": 0,
      "outputs": [
        {
          "output_type": "stream",
          "text": [
            "DatetimeIndex(['2019-06-01', '2019-06-02', '2019-06-03', '2019-06-04',\n",
            "               '2019-06-05', '2019-06-06', '2019-06-07', '2019-06-08',\n",
            "               '2019-06-09', '2019-06-10'],\n",
            "              dtype='datetime64[ns]', freq='D')\n"
          ],
          "name": "stdout"
        }
      ]
    },
    {
      "cell_type": "code",
      "metadata": {
        "id": "TW3PbAcToTaS",
        "colab_type": "code",
        "outputId": "36ac0320-1db2-40f9-f4d0-8d62bccf6228",
        "colab": {
          "base_uri": "https://localhost:8080/",
          "height": 68
        }
      },
      "source": [
        "lst=pd.date_range('20190601',periods=5)\n",
        "print(lst)"
      ],
      "execution_count": 0,
      "outputs": [
        {
          "output_type": "stream",
          "text": [
            "DatetimeIndex(['2019-06-01', '2019-06-02', '2019-06-03', '2019-06-04',\n",
            "               '2019-06-05'],\n",
            "              dtype='datetime64[ns]', freq='D')\n"
          ],
          "name": "stdout"
        }
      ]
    },
    {
      "cell_type": "code",
      "metadata": {
        "id": "MSwy1QGuspBO",
        "colab_type": "code",
        "colab": {}
      },
      "source": [
        "a2=pd.DataFrame(pd.DataFrame('2019'))"
      ],
      "execution_count": 0,
      "outputs": []
    },
    {
      "cell_type": "code",
      "metadata": {
        "id": "CNU5Q9sps6Oe",
        "colab_type": "code",
        "outputId": "b631d0b4-df50-4800-d2f7-e40c00d4df9e",
        "colab": {
          "base_uri": "https://localhost:8080/",
          "height": 102
        }
      },
      "source": [
        "# Creating a dict converted into series of values\n",
        "\n",
        "a3=pd.DataFrame({'A':1,\n",
        "               'B':pd.Timestamp('20190601'),\n",
        "               'C':pd.Series(1,index=list(range(4)),dtype='float32'),\n",
        "               'D':np.array([3]*4,dtype='int32'),\n",
        "               'E':pd.Categorical([\"test\",\"train\",\"test\",\"train\"]),\n",
        "               'F':'foo'})\n",
        "print(a3)"
      ],
      "execution_count": 0,
      "outputs": [
        {
          "output_type": "stream",
          "text": [
            "   A          B    C  D      E    F\n",
            "0  1 2019-06-01  1.0  3   test  foo\n",
            "1  1 2019-06-01  1.0  3  train  foo\n",
            "2  1 2019-06-01  1.0  3   test  foo\n",
            "3  1 2019-06-01  1.0  3  train  foo\n"
          ],
          "name": "stdout"
        }
      ]
    },
    {
      "cell_type": "code",
      "metadata": {
        "id": "rK-E7CESx2gL",
        "colab_type": "code",
        "colab": {}
      },
      "source": [
        "# Step 1 : Make all the \"turtle\" package to be imported\n",
        "import turtle as tt\n",
        "# Turtle method creates and returns the new object\n",
        "a1=tt.Turtle()\n",
        "# forward() method moves 100 pixels\n",
        "tt.forward(100)\n",
        "tt.done()"
      ],
      "execution_count": 0,
      "outputs": []
    },
    {
      "cell_type": "code",
      "metadata": {
        "id": "h-KkjxvmzXLp",
        "colab_type": "code",
        "colab": {}
      },
      "source": [
        "# Drawing a square\n",
        "import turtle as tt\n",
        "a1=tt.Turtle()\n",
        "a1.forward(150)\n",
        "a1.right(90)\n",
        "\n",
        "a1.forward(150)\n",
        "a1.right(90)\n",
        "\n",
        "a1.forward(150)\n",
        "a1.right(90)\n",
        "\n",
        "tt.done()"
      ],
      "execution_count": 0,
      "outputs": []
    },
    {
      "cell_type": "code",
      "metadata": {
        "id": "g3IwOldO0Oqg",
        "colab_type": "code",
        "colab": {}
      },
      "source": [
        "# Draw the square\n",
        "#backward and left\n",
        "\n",
        "import turtle as tt\n",
        "a1=tt.Turtle()\n",
        "a1.backward(150)\n",
        "a1.left(90)\n",
        "\n",
        "a1.backward(150)\n",
        "a1.left(90)\n",
        "\n",
        "a1.backward(150)\n",
        "a1.left(90)\n",
        "\n",
        "a1.backward(150)\n",
        "a1.left(90)\n",
        "\n",
        "\n"
      ],
      "execution_count": 0,
      "outputs": []
    },
    {
      "cell_type": "code",
      "metadata": {
        "id": "qbTcfQl36lMY",
        "colab_type": "code",
        "colab": {}
      },
      "source": [
        "import turtle as tt\n",
        "\n",
        "a1=tt.Turtle()\n",
        "\n",
        "a1.pencolor(\"blue\")\n",
        "\n",
        "for i in range(40):\n",
        "    a1.forward(i*10)\n",
        "    a1.right(144)\n",
        "    \n",
        "tt.done()\n"
      ],
      "execution_count": 0,
      "outputs": []
    },
    {
      "cell_type": "code",
      "metadata": {
        "id": "RVMOSVb67X4K",
        "colab_type": "code",
        "colab": {}
      },
      "source": [
        "import turtle as tt\n",
        "\n",
        "c1=tt.Turtle()\n",
        "c1.pencolor(\"blue\")\n",
        "for i in range(50):\n",
        "    c1.forward(50)\n",
        "    c1.left(123)\n",
        "  \n",
        "c1.pencolor(\"red\")\n",
        "for i in range(50):\n",
        "    c1.forward(50)\n",
        "    c1.left(123)\n",
        "   \n",
        "  \n",
        "c.done()"
      ],
      "execution_count": 0,
      "outputs": []
    },
    {
      "cell_type": "code",
      "metadata": {
        "id": "yuKWyzw09FlF",
        "colab_type": "code",
        "colab": {}
      },
      "source": [
        "import turtle as tt\n",
        "\n",
        "colors=['red','blue','orange','green','yellow','purple']\n",
        "\n",
        "a1=tt.Turtle()\n",
        "\n",
        "for x in range(360):\n",
        "    a1.pencolor(colors[x%6])\n",
        "    a1.width(x/100+1)\n",
        "    a.forward(x)\n",
        "    a1.left(59)\n",
        "    \n",
        "tt.done()"
      ],
      "execution_count": 0,
      "outputs": []
    },
    {
      "cell_type": "code",
      "metadata": {
        "id": "WVp3M3d4_LIK",
        "colab_type": "code",
        "colab": {}
      },
      "source": [
        "import turtle as tt\n",
        "a1=tt.turtle()\n",
        "\n",
        "colors=['red','green','yellow','orange','blue','purple']\n",
        "dot distance=10\n",
        "width=10\n",
        "height=15\n",
        "\n",
        "a1.penup()\n",
        "\n",
        "for x in range(height):\n",
        "    a1.pencolor(colors[x%6])\n",
        "    for i in range(width):\n",
        "        a1.dot()\n",
        "        a1.forward(dot_distance\n",
        "a1.forward(dot_distance*width)\n",
        "a1.right(90)\n",
        "a1.forward(dot_distance)\n",
        "a1.left(90)\n",
        "                   \n",
        "tt.done()"
      ],
      "execution_count": 0,
      "outputs": []
    },
    {
      "cell_type": "code",
      "metadata": {
        "id": "iPL1U-uFOvvW",
        "colab_type": "code",
        "colab": {}
      },
      "source": [
        "from turtle import *\n",
        "import random\n",
        "\n",
        "for n in range(50):\n",
        "    penup()\n",
        "    goto(random.randint(-400,400),random.randint(-400,400))\n",
        "    pendown()\n",
        "    \n",
        "    red_amount=random.randint(0,30)/100.0\n",
        "    blue_amount=random.randint(50,100)/100.0\n",
        "    green_amount=random.randint(0,30)/100.0\n",
        "    \n",
        "    pencolor((red_amount,blue_amount,green_amount))\n",
        "    \n",
        "    circle_size=random.randint(10,40)\n",
        "    pensize(random.randint(4,6))\n",
        "    \n",
        "    for i in range(6):\n",
        "        circle(circle_size)\n",
        "        left(60)"
      ],
      "execution_count": 0,
      "outputs": []
    },
    {
      "cell_type": "code",
      "metadata": {
        "id": "oVWWDBaNS58a",
        "colab_type": "code",
        "colab": {}
      },
      "source": [
        "from turtle import *\n",
        "\n",
        "def main():\n",
        "    colors=(\"red\",\"orange\",\"yellow\",\"seagreen4\",\"orchid4\",\"royalblue1\")\n",
        "    reset()\n",
        "    Screen()\n",
        "    up()\n",
        "    goto(-320,-195)\n",
        "    width(90)\n",
        "    for pcolor in colors:\n",
        "      color(pcolor)\n",
        "      down()\n",
        "      forward(640)\n",
        "      up()\n",
        "      backward(640)\n",
        "      left(90)\n",
        "      forward(66)\n",
        "      right(90)\n",
        "      \n",
        "width(55)\n",
        "color(\"white\")\n",
        "goto(0,-170)\n",
        "down()\n",
        "\n",
        "circle(170)\n",
        "left(90)\n",
        "forward(340)\n",
        "up()\n",
        "left(180)\n",
        "forward(170)\n",
        "right(45)\n",
        "down()\n",
        "forward(170)\n",
        "up()\n",
        "backward(170)\n",
        "left(90)\n"
      ],
      "execution_count": 0,
      "outputs": []
    }
  ]
}